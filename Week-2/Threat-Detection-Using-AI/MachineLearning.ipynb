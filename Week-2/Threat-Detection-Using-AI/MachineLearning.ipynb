{
 "cells": [
  {
   "cell_type": "code",
   "execution_count": 1,
   "metadata": {},
   "outputs": [
    {
     "name": "stderr",
     "output_type": "stream",
     "text": [
      "/Users/carl/Library/Python/3.9/lib/python/site-packages/sklearn/discriminant_analysis.py:947: UserWarning: Variables are collinear\n",
      "  warnings.warn(\"Variables are collinear\")\n",
      "/Users/carl/Library/Python/3.9/lib/python/site-packages/sklearn/discriminant_analysis.py:947: UserWarning: Variables are collinear\n",
      "  warnings.warn(\"Variables are collinear\")\n",
      "/Users/carl/Library/Python/3.9/lib/python/site-packages/sklearn/discriminant_analysis.py:947: UserWarning: Variables are collinear\n",
      "  warnings.warn(\"Variables are collinear\")\n",
      "/Users/carl/Library/Python/3.9/lib/python/site-packages/sklearn/discriminant_analysis.py:947: UserWarning: Variables are collinear\n",
      "  warnings.warn(\"Variables are collinear\")\n",
      "/Users/carl/Library/Python/3.9/lib/python/site-packages/sklearn/discriminant_analysis.py:947: UserWarning: Variables are collinear\n",
      "  warnings.warn(\"Variables are collinear\")\n",
      "/Users/carl/Library/Python/3.9/lib/python/site-packages/sklearn/discriminant_analysis.py:947: UserWarning: Variables are collinear\n",
      "  warnings.warn(\"Variables are collinear\")\n"
     ]
    },
    {
     "name": "stdout",
     "output_type": "stream",
     "text": [
      "        Attack Type  Naive Bayes Accuracy  QDA Accuracy  MLP Accuracy\n",
      "0               Bot              0.907493      0.909046      0.999550\n",
      "1              DDoS              0.974618      0.979338      0.999464\n",
      "2     DoS GoldenEye              0.933268      0.933306      0.993993\n",
      "3          DoS Hulk              0.980388      0.980383      0.979903\n",
      "4  DoS Slowhttptest              0.996782      0.477231      0.996779\n",
      "5     DoS slowloris              0.979937      0.976726      0.996625\n",
      "6       FTP-Patator              0.998758      0.999719      0.997761\n",
      "7          PortScan              0.983302      0.982664      0.993667\n",
      "8       SSH-Patator              0.998181      0.996560      0.996560\n"
     ]
    }
   ],
   "source": [
    "import pandas as pd\n",
    "from sklearn.model_selection import train_test_split\n",
    "from sklearn.naive_bayes import GaussianNB\n",
    "from sklearn.discriminant_analysis import QuadraticDiscriminantAnalysis\n",
    "from sklearn.neural_network import MLPClassifier\n",
    "from sklearn.metrics import accuracy_score\n",
    "\n",
    "# List of attack types and benign type\n",
    "attack_types = [\n",
    "    \"Bot\", \"DDoS\", \"DoS GoldenEye\", \"DoS Hulk\", \"DoS Slowhttptest\",\n",
    "    \"DoS slowloris\", \"FTP-Patator\", \"PortScan\", \"SSH-Patator\"\n",
    "]\n",
    "benign_type = \"BENIGN\"\n",
    "\n",
    "# Create an empty list to store as dictionaries\n",
    "results = []\n",
    "\n",
    "def load_data(attack_type):\n",
    "    try:\n",
    "        importance_data = pd.read_csv(f\"{attack_type}_importance.csv\")\n",
    "        selected_features = importance_data['Feature'][:3].tolist()\n",
    "        data = pd.read_csv(f\"{attack_type}_vs_{benign_type}.csv\")\n",
    "        return data[selected_features + [' Label']], selected_features\n",
    "    except FileNotFoundError as e:\n",
    "        print(f\"File not found: {e.filename}\")\n",
    "        return None, []\n",
    "\n",
    "def train_and_predict(X_train, y_train, X_test):\n",
    "    # Train and predict the models\n",
    "    models = {\n",
    "        'Naive Bayes': GaussianNB(),\n",
    "        'QDA': QuadraticDiscriminantAnalysis(),\n",
    "        'MLP': MLPClassifier(random_state=42, max_iter=1000, learning_rate_init=0.001)\n",
    "    }\n",
    "    predictions = {}\n",
    "    for model_name, model in models.items():\n",
    "        model.fit(X_train, y_train)\n",
    "        predictions[model_name] = model.predict(X_test)\n",
    "    return predictions\n",
    "\n",
    "# Main execution loop to process each attack type\n",
    "results = []\n",
    "for attack_type in attack_types:\n",
    "    selected_data, selected_features = load_data(attack_type)\n",
    "    \n",
    "    if selected_data is not None:\n",
    "        X = selected_data[selected_features]\n",
    "        y = selected_data[' Label']\n",
    "        \n",
    "        # Split the data into training and testing sets\n",
    "        X_train, X_test, y_train, y_test = train_test_split(X, y, test_size=0.4, random_state=42)\n",
    "        \n",
    "        # Train models and get predictions\n",
    "        preds = train_and_predict(X_train, y_train, X_test)\n",
    "        \n",
    "        # Calculate and store results\n",
    "        result_dict = {'Attack Type': attack_type}\n",
    "        for model_name, pred in preds.items():\n",
    "            result_dict[f'{model_name} Accuracy'] = accuracy_score(y_test, pred)\n",
    "        \n",
    "        results.append(result_dict)\n",
    "\n",
    "# Create a Pandas DataFrame from the results list \n",
    "results_df = pd.DataFrame(results)\n",
    "\n",
    "# Display the DataFrame\n",
    "print(results_df)"
   ]
  }
 ],
 "metadata": {
  "kernelspec": {
   "display_name": "Python 3",
   "language": "python",
   "name": "python3"
  },
  "language_info": {
   "codemirror_mode": {
    "name": "ipython",
    "version": 3
   },
   "file_extension": ".py",
   "mimetype": "text/x-python",
   "name": "python",
   "nbconvert_exporter": "python",
   "pygments_lexer": "ipython3",
   "version": "3.9.6"
  }
 },
 "nbformat": 4,
 "nbformat_minor": 2
}
