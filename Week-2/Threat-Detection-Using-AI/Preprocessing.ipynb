{
 "cells": [
  {
   "cell_type": "code",
   "execution_count": 4,
   "metadata": {},
   "outputs": [
    {
     "name": "stdout",
     "output_type": "stream",
     "text": [
      "Processing and Saving to CSV file is done.\n"
     ]
    }
   ],
   "source": [
    "# Importing libraries\n",
    "import pandas as pd\n",
    "import numpy as np\n",
    "from sklearn.preprocessing import StandardScaler, LabelEncoder\n",
    "\n",
    "# List of CSV files\n",
    "file_paths = [\n",
    "    \"data/Tuesday-WorkingHours.pcap_ISCX.csv\",\n",
    "    \"data/Wednesday-workingHours.pcap_ISCX.csv\",\n",
    "    \"data/Thursday-WorkingHours-Morning-WebAttacks.pcap_ISCX.csv\",\n",
    "    \"data/Thursday-WorkingHours-Afternoon-Infilteration.pcap_ISCX.csv\",\n",
    "    \"data/Friday-WorkingHours-Morning.pcap_ISCX.csv\",\n",
    "    \"data/Friday-WorkingHours-Afternoon-PortScan.pcap_ISCX.csv\",\n",
    "    \"data/Friday-WorkingHours-Afternoon-DDos.pcap_ISCX.csv\"\n",
    "]\n",
    "\n",
    "# Initialize StandardScaler and LabelEncoder\n",
    "scaler = StandardScaler()\n",
    "label_encoder = LabelEncoder()\n",
    "\n",
    "# Preprocessing data function\n",
    "def preprocess_data(file_paths):\n",
    "    \n",
    "    # Read CSV file\n",
    "    df = pd.read_csv(file_paths, encoding='iso-8859-2', engine='python')\n",
    "\n",
    "    # Handle missing values and infinite values\n",
    "    # Drop rows with missing Flow_Duration values\n",
    "    df.dropna(subset=[\" Flow Duration\"], inplace=True)\n",
    "\n",
    "    # Replace infinites values with NaN\n",
    "    df.replace([np.inf, -np.inf], np.nan, inplace=True)\n",
    "\n",
    "    # Drop rows with the remaining NaN values\n",
    "    df.dropna(inplace=True)\n",
    "\n",
    "    # Normalize numeric columns\n",
    "    numeric_columns = df.select_dtypes(include='number').columns\n",
    "    df[numeric_columns] = df[numeric_columns].astype(np.float32)\n",
    "    df[numeric_columns] = scaler.fit_transform(df[numeric_columns])\n",
    "\n",
    "    # Encode categorical columns to numeric\n",
    "    categorical_columns = df.select_dtypes(include='object').columns\n",
    "    for col in categorical_columns:\n",
    "        if col != ' Label':\n",
    "           df[col] = df[col].replace('Infinity', -1)\n",
    "           df[col] = label_encoder.fit_transform(df[col])\n",
    "    \n",
    "    return df\n",
    "\n",
    "# Process each file and concatenate results into a single DataFrame\n",
    "processed_dfs = [preprocess_data(file) for file in file_paths]\n",
    "final_dataframe = pd.concat(processed_dfs, ignore_index=True)\n",
    "\n",
    "# Process the data and save to a new CSV file\n",
    "final_dataframe.to_csv(\"new_data.csv\", index=False)\n",
    "print(\"Processing and Saving to CSV file is done.\")"
   ]
  }
 ],
 "metadata": {
  "kernelspec": {
   "display_name": "Python 3",
   "language": "python",
   "name": "python3"
  },
  "language_info": {
   "codemirror_mode": {
    "name": "ipython",
    "version": 3
   },
   "file_extension": ".py",
   "mimetype": "text/x-python",
   "name": "python",
   "nbconvert_exporter": "python",
   "pygments_lexer": "ipython3",
   "version": "3.9.6"
  }
 },
 "nbformat": 4,
 "nbformat_minor": 2
}
